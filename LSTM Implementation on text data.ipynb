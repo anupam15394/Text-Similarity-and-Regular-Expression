{
 "cells": [
  {
   "cell_type": "markdown",
   "metadata": {},
   "source": [
    "# Using LSTM\n"
   ]
  },
  {
   "cell_type": "code",
   "execution_count": 1,
   "metadata": {},
   "outputs": [],
   "source": [
    "#importing the libraries\n",
    "import torch\n",
    "from torchtext import data\n",
    "import numpy as np\n",
    "import torch.nn.functional as F\n",
    "\n",
    "#fixing seed\n",
    "SEED = 1234 \n",
    "\n",
    "torch.manual_seed(SEED)\n",
    "torch.cuda.manual_seed(SEED)\n",
    "torch.backends.cudnn.deterministic = True\n",
    "\n",
    "#imprting spacy for text processing\n",
    "import spacy\n",
    "\n",
    "TEXT = data.Field(tokenize='spacy')\n",
    "LABEL = data.LabelField(dtype=torch.float)\n",
    "\n",
    "#importing imdb dataset\n",
    "from torchtext.datasets import IMDB\n",
    "\n",
    "#splitting into test and train\n",
    "train_data, test_data = IMDB.splits(TEXT,LABEL)"
   ]
  },
  {
   "cell_type": "code",
   "execution_count": 3,
   "metadata": {
    "colab": {
     "base_uri": "https://localhost:8080/",
     "height": 56
    },
    "colab_type": "code",
    "id": "HaTPhwPqJ6CR",
    "outputId": "3f940735-6561-4c65-aa2c-39bf76c434f8"
   },
   "outputs": [
    {
     "name": "stdout",
     "output_type": "stream",
     "text": [
      "{'text': ['I', 'am', 'stunned', 'at', 'the', 'negative', 'comments', 'that', 'I', 'have', 'read', 'and', 'can', 'only', 'assume', 'that', 'the', 'people', 'making', 'such', 'comments', 'were', 'less', 'than', 'honest', '.', 'This', 'is', 'the', 'most', 'moving', 'and', 'real', 'portrayal', 'of', 'Joseph', 'Smith', 'that', 'I', 'have', 'ever', 'seen', '.', 'It', 'was', 'well', 'acted', 'to', 'the', 'point', 'that', 'at', 'times', 'I', 'forgot', 'that', 'I', 'was', 'watching', 'a', 'movie', '.', 'It', 'brought', 'Joseph', \"'s\", 'life', 'of', 'hardship', ',', 'good', '-', 'natured', 'optimism', ',', 'enduring', 'faith', 'in', 'people', 'and', 'God', ',', 'and', 'ultimate', 'sacrifice', 'to', 'life', 'such', 'in', 'a', 'way', 'that', 'frankly', 'left', 'me', 'speechless', 'and', 'silent', 'in', 'awe', '.', 'If', 'anyone', ',', 'of', 'ANY', 'Christian', 'religion', 'can', 'watch', 'this', 'movie', 'without', 'being', 'touched', 'in', 'some', 'positive', 'way', '--', 'I', 'would', 'have', 'to', 'say', 'it', 'is', 'a', 'reflection', 'of', 'the', 'individual', 'and', 'NOT', 'the', 'movie', '.', 'I', 'give', 'the', 'movie', 'a', '\"', '10', '\"', 'and', 'encourage', 'honest', 'souls', 'to', 'view', 'it', '.', 'At', 'the', 'very', 'LEAST', 'it', 'is', 'an', 'extremely', 'heart', 'felt', 'portrayal', 'of', 'man', 'who', 'gave', 'everything', 'he', 'had', 'for', 'what', 'he', 'believed', '...', 'In', 'a', 'world', 'where', 'values', 'and', 'beliefs', 'are', 'ridiculed', ',', 'this', 'movie', 'stands', 'as', 'a', 'enduring', 'reminder', 'of', 'the', 'kind', 'of', 'people', 'we', 'are', 'supposed', 'to', 'be-', 'no', 'matter', 'what', 'religious', 'beliefs', 'we', 'hold.-', 'Ann', 'Pruitt-'], 'label': 'pos'}\n"
     ]
    }
   ],
   "source": [
    "# print an example\n",
    "print(vars(train_data.examples[6]))"
   ]
  },
  {
   "cell_type": "code",
   "execution_count": 4,
   "metadata": {
    "colab": {},
    "colab_type": "code",
    "id": "pxD-leqFdKPa"
   },
   "outputs": [],
   "source": [
    "#build validation data\n",
    "import random\n",
    "train_data, valid_data = train_data.split(random_state=random.seed(SEED))"
   ]
  },
  {
   "cell_type": "code",
   "execution_count": 5,
   "metadata": {
    "colab": {},
    "colab_type": "code",
    "id": "M5U-6SaUdKPd"
   },
   "outputs": [],
   "source": [
    "#build vocabulary\n",
    "TEXT.build_vocab(train_data, max_size=25000)\n",
    "LABEL.build_vocab(train_data)"
   ]
  },
  {
   "cell_type": "code",
   "execution_count": 7,
   "metadata": {
    "colab": {
     "base_uri": "https://localhost:8080/",
     "height": 73
    },
    "colab_type": "code",
    "id": "4EvAvUr8dKPh",
    "outputId": "082236cc-6f47-4afe-9816-f42320b5f151"
   },
   "outputs": [
    {
     "name": "stdout",
     "output_type": "stream",
     "text": [
      "Length of Training Data set: 17500\n",
      "Length of test Data set: 25000\n",
      "Length of Validation Data set: 7500\n"
     ]
    }
   ],
   "source": [
    "#check the length of each of the dataset\n",
    "print(\"Length of Training Data set:\",len(train_data))\n",
    "print(\"Length of test Data set:\",len(test_data))\n",
    "print(\"Length of Validation Data set:\",len(valid_data))"
   ]
  },
  {
   "cell_type": "code",
   "execution_count": 8,
   "metadata": {
    "colab": {
     "base_uri": "https://localhost:8080/",
     "height": 54
    },
    "colab_type": "code",
    "id": "TfGwjgW1dKPm",
    "outputId": "e02bea63-71df-465a-c9e8-472e7d41d2b9"
   },
   "outputs": [
    {
     "name": "stdout",
     "output_type": "stream",
     "text": [
      "Unique tokens in TEXT vocabulary: 25002\n",
      "Unique tokens in LABEL vocabulary: 2\n"
     ]
    }
   ],
   "source": [
    "print(f\"Unique tokens in TEXT vocabulary: {len(TEXT.vocab)}\")\n",
    "print(f\"Unique tokens in LABEL vocabulary: {len(LABEL.vocab)}\")"
   ]
  },
  {
   "cell_type": "code",
   "execution_count": 9,
   "metadata": {
    "colab": {
     "base_uri": "https://localhost:8080/",
     "height": 56
    },
    "colab_type": "code",
    "id": "0lxKwHqsdKPs",
    "outputId": "32c4cd51-5e51-48af-dcca-c8799ff4f7b1",
    "scrolled": true
   },
   "outputs": [
    {
     "name": "stdout",
     "output_type": "stream",
     "text": [
      "[('the', 201155), (',', 190682), ('.', 165103), ('a', 109028), ('and', 108856), ('of', 100048), ('to', 93407), ('is', 75991), ('in', 61222), ('I', 54380), ('it', 53617), ('that', 49021), ('\"', 44389), (\"'s\", 43002), ('this', 42288), ('-', 36720), ('/><br', 35753), ('was', 35036), ('as', 30362), ('with', 29639)]\n"
     ]
    }
   ],
   "source": [
    "#print the most frequent words\n",
    "print(TEXT.vocab.freqs.most_common(20))"
   ]
  },
  {
   "cell_type": "code",
   "execution_count": 10,
   "metadata": {
    "colab": {},
    "colab_type": "code",
    "id": "_OGm9HIgdKPy"
   },
   "outputs": [],
   "source": [
    "#split the data using bucket iterator\n",
    "BATCH_SIZE = 64\n",
    "\n",
    "device = torch.device('cuda' if torch.cuda.is_available() else 'cpu')\n",
    "\n",
    "train_iterator, valid_iterator, test_iterator = data.BPTTIterator.splits(\n",
    "    (train_data, valid_data, test_data), \n",
    "    bptt_len=30,\n",
    "    batch_size=BATCH_SIZE,\n",
    "    device=device)"
   ]
  },
  {
   "cell_type": "code",
   "execution_count": 11,
   "metadata": {
    "colab": {},
    "colab_type": "code",
    "id": "tMt8U8AOdKP_"
   },
   "outputs": [],
   "source": [
    "#Build the LSTM model\n",
    "import torch\n",
    "import torch.nn as nn\n",
    "import torch.nn.functional as F\n",
    "import torch.optim as optim\n",
    "from torch.autograd import Variable as V\n",
    " \n",
    "class RNN(nn.Module):\n",
    "    def __init__(self, ntoken, ninp,\n",
    "                 nhid, nlayers, bsz):\n",
    "        super(RNN, self).__init__()\n",
    "        self.nhid, self.nlayers, self.bsz = nhid, nlayers, bsz\n",
    "        self.encoder = nn.Embedding(ntoken, ninp)\n",
    "        self.rnn = nn.LSTM(ninp, nhid, nlayers)\n",
    "        self.decoder = nn.Linear(nhid, ntoken)    \n",
    "    \n",
    "    def forward(self, input):\n",
    "        emb = self.encoder(input)\n",
    "        output, self.hidden = self.rnn(emb)\n",
    "        output = output\n",
    "        decoded = self.decoder(output.view(output.size(0)*output.size(1), output.size(2)))\n",
    "        return decoded.view(output.size(0), output.size(1), decoded.size(1))\n"
   ]
  },
  {
   "cell_type": "code",
   "execution_count": 12,
   "metadata": {
    "colab": {},
    "colab_type": "code",
    "id": "JVXDsDJldKQB"
   },
   "outputs": [],
   "source": [
    "#pass the parameters\n",
    "nwords = len(TEXT.vocab)\n",
    "n_inp= 200\n",
    "batch= BATCH_SIZE\n",
    "n_hid=200\n",
    "no_layers=1"
   ]
  },
  {
   "cell_type": "code",
   "execution_count": 13,
   "metadata": {
    "colab": {},
    "colab_type": "code",
    "id": "KGrN54ahdKQG"
   },
   "outputs": [],
   "source": [
    "model = RNN(nwords,n_inp,n_hid,no_layers,batch)"
   ]
  },
  {
   "cell_type": "markdown",
   "metadata": {
    "colab": {},
    "colab_type": "code",
    "id": "UAhlRpnSdKQL"
   },
   "source": [
    "# Training the model using Adam optimizer and learning rate = 0.001"
   ]
  },
  {
   "cell_type": "code",
   "execution_count": 14,
   "metadata": {
    "colab": {},
    "colab_type": "code",
    "id": "ewbmMHOgdKQU"
   },
   "outputs": [],
   "source": [
    "#cross entropy loss\n",
    "criterion = nn.CrossEntropyLoss()\n",
    "#optimize using Adam optimizer\n",
    "optimizer = optim.Adam(model.parameters(), lr=0.001, betas=(0.7, 0.99))\n",
    "\n",
    "model=model.to(device)\n",
    "criterion=criterion.to(device)\n",
    "\n",
    "\n",
    "\n",
    "import time\n",
    "from tqdm import tqdm\n",
    "\n",
    "#train the model\n",
    "\n",
    "def train_epoch(epoch):\n",
    "\n",
    "    epoch_loss = 0\n",
    "    model.train()\n",
    "    average_time = 0\n",
    "    for batch in tqdm(train_iterator):\n",
    "    \n",
    "        batch_time = time.time()\n",
    "#         print(batch_time)\n",
    "        optimizer.zero_grad()\n",
    "\n",
    "        text, targets = batch.text, batch.target\n",
    "        prediction = model(text)\n",
    "        \n",
    "        loss = criterion(prediction.view(-1, nwords), targets.view(-1))\n",
    "        loss.backward()\n",
    "\n",
    "        optimizer.step()\n",
    "        \n",
    "        batch_time = time.time() - batch_time\n",
    "        \n",
    "        average_time += batch_time\n",
    "#         print(average_time)\n",
    "        epoch_loss += loss.item()\n",
    "        epoch_loss /= len(train_data.examples[0].text)\n",
    "        loss_history[epoch] = loss\n",
    "        \n",
    "    # log the loss for each of the iterations\n",
    "    val_loss = 0\n",
    "    model.eval()\n",
    "    for batch in valid_iterator:\n",
    "        #model.reset_history()\n",
    "        text, targets = batch.text, batch.target\n",
    "        prediction = model(text)\n",
    "        loss = criterion(prediction.view(-1, nwords), targets.view(-1))\n",
    "        val_loss += loss.item()\n",
    "    val_loss /= len(valid_data.examples[0].text)\n",
    " \n",
    "    print('Epoch: {}, Training Loss: {:.4f}, Validation Loss: {:.4f}, Batch time: {:.4f}'.format(epoch, epoch_loss, val_loss, average_time))\n",
    "    return epoch_loss , val_loss , average_time\n"
   ]
  },
  {
   "cell_type": "code",
   "execution_count": 15,
   "metadata": {
    "colab": {
     "base_uri": "https://localhost:8080/",
     "height": 372
    },
    "colab_type": "code",
    "id": "PjdsUytKijuT",
    "outputId": "157390cd-da46-4f55-fb9a-daaf0b4293bd",
    "scrolled": true
   },
   "outputs": [
    {
     "name": "stderr",
     "output_type": "stream",
     "text": [
      "100%|██████████| 1/1 [00:00<00:00, 100.92it/s]\n",
      "100%|██████████| 1/1 [00:00<00:00, 118.47it/s]\n",
      "100%|██████████| 1/1 [00:00<00:00, 121.68it/s]\n",
      "100%|██████████| 1/1 [00:00<00:00, 121.80it/s]\n",
      "100%|██████████| 1/1 [00:00<00:00, 122.07it/s]\n",
      "100%|██████████| 1/1 [00:00<00:00, 122.34it/s]\n",
      "100%|██████████| 1/1 [00:00<00:00, 119.44it/s]\n",
      "100%|██████████| 1/1 [00:00<00:00, 118.02it/s]\n",
      "100%|██████████| 1/1 [00:00<00:00, 121.62it/s]"
     ]
    },
    {
     "name": "stdout",
     "output_type": "stream",
     "text": [
      "Epoch: 1, Training Loss: 0.0271, Validation Loss: 0.0228, Batch time: 0.0051\n",
      "Epoch: 2, Training Loss: 0.0269, Validation Loss: 0.0228, Batch time: 0.0019\n",
      "Epoch: 3, Training Loss: 0.0268, Validation Loss: 0.0228, Batch time: 0.0016\n",
      "Epoch: 4, Training Loss: 0.0266, Validation Loss: 0.0227, Batch time: 0.0015\n",
      "Epoch: 5, Training Loss: 0.0264, Validation Loss: 0.0227, Batch time: 0.0015\n",
      "Epoch: 6, Training Loss: 0.0262, Validation Loss: 0.0227, Batch time: 0.0015\n",
      "Epoch: 7, Training Loss: 0.0260, Validation Loss: 0.0227, Batch time: 0.0016\n",
      "Epoch: 8, Training Loss: 0.0258, Validation Loss: 0.0226, Batch time: 0.0016\n",
      "Epoch: 9, Training Loss: 0.0256, Validation Loss: 0.0226, Batch time: 0.0016\n"
     ]
    },
    {
     "name": "stderr",
     "output_type": "stream",
     "text": [
      "\n"
     ]
    }
   ],
   "source": [
    "n_epochs = 10\n",
    "loss_history = np.arange(0,n_epochs,dtype=float)\n",
    "time_history = np.arange(0,n_epochs,dtype=float)\n",
    "for epoch in range(1, n_epochs):\n",
    "  train_loss, val_loss, train_time = train_epoch(epoch)\n",
    "  loss_history[epoch] = train_loss\n",
    "  time_history[epoch] = train_time"
   ]
  },
  {
   "cell_type": "code",
   "execution_count": 17,
   "metadata": {
    "colab": {
     "base_uri": "https://localhost:8080/",
     "height": 395
    },
    "colab_type": "code",
    "id": "1b6f1BejFv1s",
    "outputId": "613f9297-51b3-418d-9727-83fd6ce8d419"
   },
   "outputs": [
    {
     "data": {
      "text/plain": [
       "Text(0.5, 1.0, 'time_vs_epoch')"
      ]
     },
     "execution_count": 17,
     "metadata": {},
     "output_type": "execute_result"
    },
    {
     "data": {
      "image/png": "[encoded data removed]",
      "text/plain": [
       "<Figure size 432x288 with 1 Axes>"
      ]
     },
     "metadata": {
      "needs_background": "light"
     },
     "output_type": "display_data"
    }
   ],
   "source": [
    "import matplotlib.pyplot as plt\n",
    "plt.plot(np.arange(0,n_epochs),time_history)\n",
    "# plt.ylim(0.0000, 0.0170)\n",
    "plt.xlabel('epoch')\n",
    "plt.ylabel('train_time')\n",
    "plt.title('time_vs_epoch')"
   ]
  },
  {
   "cell_type": "code",
   "execution_count": 18,
   "metadata": {
    "colab": {
     "base_uri": "https://localhost:8080/",
     "height": 395
    },
    "colab_type": "code",
    "id": "Ylv2qzRHFv14",
    "outputId": "6ef53cc5-5402-41ce-f0ca-37987adf54d1"
   },
   "outputs": [
    {
     "data": {
      "text/plain": [
       "Text(0.5, 1.0, 'loss_vs_epoch')"
      ]
     },
     "execution_count": 18,
     "metadata": {},
     "output_type": "execute_result"
    },
    {
     "data": {
      "image/png": "[encoded data removed]",
      "text/plain": [
       "<Figure size 432x288 with 1 Axes>"
      ]
     },
     "metadata": {
      "needs_background": "light"
     },
     "output_type": "display_data"
    }
   ],
   "source": [
    "import matplotlib.pyplot as plt\n",
    "plt.plot(np.arange(0,n_epochs),loss_history)\n",
    "# plt.ylim(0.00000130, 0.00000200)\n",
    "plt.xlabel('epoch')\n",
    "plt.ylabel('train_loss')\n",
    "plt.title('loss_vs_epoch')"
   ]
  },
  {
   "cell_type": "markdown",
   "metadata": {},
   "source": [
    "# Key design choices and their impact on training time and generative quality"
   ]
  },
  {
   "cell_type": "markdown",
   "metadata": {},
   "source": [
    "Below, we have tried multiple iterations using different optmizers and learning rate. We see that Adam optimizer which we tried originally earlier gives best results"
   ]
  },
  {
   "cell_type": "markdown",
   "metadata": {},
   "source": [
    "# a. Training using RMSprop and learning rate = 0.0001"
   ]
  },
  {
   "cell_type": "code",
   "execution_count": 17,
   "metadata": {},
   "outputs": [],
   "source": [
    "model1 = RNN(nwords,n_inp,n_hid,no_layers,batch)\n",
    "\n",
    "#cross entropy loss\n",
    "criterion = nn.CrossEntropyLoss()\n",
    "#optimize using Adam optimizer\n",
    "optimizer = optim.RMSprop(model1.parameters(), lr=0.0001)\n",
    "\n",
    "model1=model1.to(device)\n",
    "criterion=criterion.to(device)\n",
    "\n",
    "\n",
    "\n",
    "import time\n",
    "from tqdm import tqdm\n",
    "\n",
    "#train the model\n",
    "\n",
    "def train_epoch(epoch):\n",
    "\n",
    "    epoch_loss = 0\n",
    "    model1.train()\n",
    "    average_time = 0\n",
    "    for batch in tqdm(train_iterator):\n",
    "    \n",
    "        batch_time = time.time()\n",
    "#         print(batch_time)\n",
    "        optimizer.zero_grad()\n",
    "\n",
    "        text, targets = batch.text, batch.target\n",
    "        prediction = model1(text)\n",
    "        \n",
    "        loss = criterion(prediction.view(-1, nwords), targets.view(-1))\n",
    "        loss.backward()\n",
    "\n",
    "        optimizer.step()\n",
    "        \n",
    "        batch_time = time.time() - batch_time\n",
    "        \n",
    "        average_time += batch_time\n",
    "#         print(average_time)\n",
    "        epoch_loss += loss.item()\n",
    "        epoch_loss /= len(train_data.examples[0].text)\n",
    "        loss_history[epoch] = loss\n",
    "        \n",
    "    # log the loss for each of the iterations\n",
    "    val_loss = 0\n",
    "    model1.eval()\n",
    "    for batch in valid_iterator:\n",
    "        #model.reset_history()\n",
    "        text, targets = batch.text, batch.target\n",
    "        prediction = model1(text)\n",
    "        loss = criterion(prediction.view(-1, nwords), targets.view(-1))\n",
    "        val_loss += loss.item()\n",
    "    val_loss /= len(valid_data.examples[0].text)\n",
    " \n",
    "    print('Epoch: {}, Training Loss: {:.4f}, Validation Loss: {:.4f}, Batch time: {:.4f}'.format(epoch, epoch_loss, val_loss, average_time))\n",
    "    return epoch_loss , val_loss , average_time \n"
   ]
  },
  {
   "cell_type": "code",
   "execution_count": 18,
   "metadata": {},
   "outputs": [
    {
     "name": "stderr",
     "output_type": "stream",
     "text": [
      "100%|██████████| 1/1 [00:00<00:00, 132.66it/s]\n",
      "100%|██████████| 1/1 [00:00<00:00, 128.44it/s]\n",
      "100%|██████████| 1/1 [00:00<00:00, 133.17it/s]\n",
      "100%|██████████| 1/1 [00:00<00:00, 134.05it/s]\n",
      "100%|██████████| 1/1 [00:00<00:00, 134.50it/s]\n",
      "100%|██████████| 1/1 [00:00<00:00, 134.48it/s]\n",
      "100%|██████████| 1/1 [00:00<00:00, 132.86it/s]\n",
      "100%|██████████| 1/1 [00:00<00:00, 133.83it/s]\n",
      "100%|██████████| 1/1 [00:00<00:00, 130.04it/s]"
     ]
    },
    {
     "name": "stdout",
     "output_type": "stream",
     "text": [
      "Epoch: 1, Training Loss: 0.0271, Validation Loss: 0.0228, Batch time: 0.0016\n",
      "Epoch: 2, Training Loss: 0.0269, Validation Loss: 0.0228, Batch time: 0.0020\n",
      "Epoch: 3, Training Loss: 0.0268, Validation Loss: 0.0228, Batch time: 0.0016\n",
      "Epoch: 4, Training Loss: 0.0267, Validation Loss: 0.0228, Batch time: 0.0016\n",
      "Epoch: 5, Training Loss: 0.0266, Validation Loss: 0.0228, Batch time: 0.0013\n",
      "Epoch: 6, Training Loss: 0.0266, Validation Loss: 0.0227, Batch time: 0.0013\n",
      "Epoch: 7, Training Loss: 0.0265, Validation Loss: 0.0227, Batch time: 0.0014\n",
      "Epoch: 8, Training Loss: 0.0264, Validation Loss: 0.0227, Batch time: 0.0014\n",
      "Epoch: 9, Training Loss: 0.0263, Validation Loss: 0.0227, Batch time: 0.0014\n"
     ]
    },
    {
     "name": "stderr",
     "output_type": "stream",
     "text": [
      "\n"
     ]
    }
   ],
   "source": [
    "n_epochs = 10\n",
    "loss_history = np.arange(0,n_epochs,dtype=float)\n",
    "time_history = np.arange(0,n_epochs,dtype=float)\n",
    "for epoch in range(1, n_epochs):\n",
    "  train_loss, val_loss, train_time = train_epoch(epoch)\n",
    "  loss_history[epoch] = train_loss\n",
    "  time_history[epoch] = train_time"
   ]
  },
  {
   "cell_type": "code",
   "execution_count": 19,
   "metadata": {},
   "outputs": [
    {
     "data": {
      "text/plain": [
       "Text(0.5, 1.0, 'time_vs_epoch')"
      ]
     },
     "execution_count": 19,
     "metadata": {},
     "output_type": "execute_result"
    },
    {
     "data": {
      "image/png": "[encoded data removed]",
      "text/plain": [
       "<Figure size 432x288 with 1 Axes>"
      ]
     },
     "metadata": {
      "needs_background": "light"
     },
     "output_type": "display_data"
    }
   ],
   "source": [
    "import matplotlib.pyplot as plt\n",
    "plt.plot(np.arange(0,n_epochs),time_history)\n",
    "# plt.ylim(0.0000, 0.0170)\n",
    "plt.xlabel('epoch')\n",
    "plt.ylabel('train_time')\n",
    "plt.title('time_vs_epoch')"
   ]
  },
  {
   "cell_type": "code",
   "execution_count": 20,
   "metadata": {},
   "outputs": [
    {
     "data": {
      "text/plain": [
       "Text(0.5, 1.0, 'loss_vs_epoch')"
      ]
     },
     "execution_count": 20,
     "metadata": {},
     "output_type": "execute_result"
    },
    {
     "data": {
      "image/png": "[encoded data removed]",
      "text/plain": [
       "<Figure size 432x288 with 1 Axes>"
      ]
     },
     "metadata": {
      "needs_background": "light"
     },
     "output_type": "display_data"
    }
   ],
   "source": [
    "import matplotlib.pyplot as plt\n",
    "plt.plot(np.arange(0,n_epochs),loss_history)\n",
    "# plt.ylim(0.00000130, 0.00000200)\n",
    "plt.xlabel('epoch')\n",
    "plt.ylabel('train_loss')\n",
    "plt.title('loss_vs_epoch')"
   ]
  },
  {
   "cell_type": "markdown",
   "metadata": {},
   "source": [
    "# b. Training using SGD and learning rate = 0.01"
   ]
  },
  {
   "cell_type": "code",
   "execution_count": 19,
   "metadata": {},
   "outputs": [],
   "source": [
    "model2 = RNN(nwords,n_inp,n_hid,no_layers,batch)\n",
    "\n",
    "#cross entropy loss\n",
    "criterion = nn.CrossEntropyLoss()\n",
    "#optimize using Adam optimizer\n",
    "optimizer = optim.SGD(model2.parameters(), lr=0.01)\n",
    "\n",
    "model2=model2.to(device)\n",
    "criterion=criterion.to(device)\n",
    "\n",
    "\n",
    "\n",
    "import time\n",
    "from tqdm import tqdm\n",
    "\n",
    "#train the model\n",
    "\n",
    "def train_epoch(epoch):\n",
    "\n",
    "    epoch_loss = 0\n",
    "    model2.train()\n",
    "    average_time = 0\n",
    "    for batch in tqdm(train_iterator):\n",
    "    \n",
    "        batch_time = time.time()\n",
    "#         print(batch_time)\n",
    "        optimizer.zero_grad()\n",
    "\n",
    "        text, targets = batch.text, batch.target\n",
    "        prediction = model2(text)\n",
    "        \n",
    "        loss = criterion(prediction.view(-1, nwords), targets.view(-1))\n",
    "        loss.backward()\n",
    "\n",
    "        optimizer.step()\n",
    "        \n",
    "        batch_time = time.time() - batch_time\n",
    "        \n",
    "        average_time += batch_time\n",
    "#         print(average_time)\n",
    "        epoch_loss += loss.item()\n",
    "        epoch_loss /= len(train_data.examples[0].text)\n",
    "        loss_history[epoch] = loss\n",
    "        \n",
    "    # log the loss for each of the iterations\n",
    "    val_loss = 0\n",
    "    model2.eval()\n",
    "    for batch in valid_iterator:\n",
    "        #model.reset_history()\n",
    "        text, targets = batch.text, batch.target\n",
    "        prediction = model2(text)\n",
    "        loss = criterion(prediction.view(-1, nwords), targets.view(-1))\n",
    "        val_loss += loss.item()\n",
    "    val_loss /= len(valid_data.examples[0].text)\n",
    " \n",
    "    print('Epoch: {}, Training Loss: {:.4f}, Validation Loss: {:.4f}, Batch time: {:.4f}'.format(epoch, epoch_loss, val_loss, average_time))\n",
    "    return epoch_loss , val_loss , average_time \n"
   ]
  },
  {
   "cell_type": "code",
   "execution_count": 20,
   "metadata": {},
   "outputs": [
    {
     "name": "stderr",
     "output_type": "stream",
     "text": [
      "100%|██████████| 1/1 [00:00<00:00, 167.73it/s]\n",
      "100%|██████████| 1/1 [00:00<00:00, 167.22it/s]\n",
      "100%|██████████| 1/1 [00:00<00:00, 171.57it/s]\n",
      "100%|██████████| 1/1 [00:00<00:00, 165.84it/s]\n",
      "100%|██████████| 1/1 [00:00<00:00, 165.15it/s]\n",
      "100%|██████████| 1/1 [00:00<00:00, 165.48it/s]\n",
      "100%|██████████| 1/1 [00:00<00:00, 164.35it/s]\n",
      "100%|██████████| 1/1 [00:00<00:00, 167.23it/s]\n",
      "100%|██████████| 1/1 [00:00<00:00, 167.91it/s]"
     ]
    },
    {
     "name": "stdout",
     "output_type": "stream",
     "text": [
      "Epoch: 1, Training Loss: 0.0271, Validation Loss: 0.0228, Batch time: 0.0011\n",
      "Epoch: 2, Training Loss: 0.0271, Validation Loss: 0.0228, Batch time: 0.0011\n",
      "Epoch: 3, Training Loss: 0.0271, Validation Loss: 0.0228, Batch time: 0.0011\n",
      "Epoch: 4, Training Loss: 0.0271, Validation Loss: 0.0228, Batch time: 0.0011\n",
      "Epoch: 5, Training Loss: 0.0271, Validation Loss: 0.0228, Batch time: 0.0010\n",
      "Epoch: 6, Training Loss: 0.0271, Validation Loss: 0.0228, Batch time: 0.0010\n",
      "Epoch: 7, Training Loss: 0.0271, Validation Loss: 0.0228, Batch time: 0.0010\n",
      "Epoch: 8, Training Loss: 0.0271, Validation Loss: 0.0228, Batch time: 0.0010\n",
      "Epoch: 9, Training Loss: 0.0271, Validation Loss: 0.0228, Batch time: 0.0010\n"
     ]
    },
    {
     "name": "stderr",
     "output_type": "stream",
     "text": [
      "\n"
     ]
    }
   ],
   "source": [
    "n_epochs = 10\n",
    "loss_history = np.arange(0,n_epochs,dtype=float)\n",
    "time_history = np.arange(0,n_epochs,dtype=float)\n",
    "for epoch in range(1, n_epochs):\n",
    "  train_loss, val_loss, train_time = train_epoch(epoch)\n",
    "  loss_history[epoch] = train_loss\n",
    "  time_history[epoch] = train_time"
   ]
  },
  {
   "cell_type": "code",
   "execution_count": 21,
   "metadata": {},
   "outputs": [
    {
     "data": {
      "text/plain": [
       "Text(0.5, 1.0, 'time_vs_epoch')"
      ]
     },
     "execution_count": 21,
     "metadata": {},
     "output_type": "execute_result"
    },
    {
     "data": {
      "image/png": "[encoded data removed]",
      "text/plain": [
       "<Figure size 432x288 with 1 Axes>"
      ]
     },
     "metadata": {
      "needs_background": "light"
     },
     "output_type": "display_data"
    }
   ],
   "source": [
    "import matplotlib.pyplot as plt\n",
    "plt.plot(np.arange(0,n_epochs),time_history)\n",
    "# plt.ylim(0.0000, 0.0170)\n",
    "plt.xlabel('epoch')\n",
    "plt.ylabel('train_time')\n",
    "plt.title('time_vs_epoch')"
   ]
  },
  {
   "cell_type": "code",
   "execution_count": 22,
   "metadata": {},
   "outputs": [
    {
     "data": {
      "text/plain": [
       "Text(0.5, 1.0, 'loss_vs_epoch')"
      ]
     },
     "execution_count": 22,
     "metadata": {},
     "output_type": "execute_result"
    },
    {
     "data": {
      "image/png": "[encoded data removed]",
      "text/plain": [
       "<Figure size 432x288 with 1 Axes>"
      ]
     },
     "metadata": {
      "needs_background": "light"
     },
     "output_type": "display_data"
    }
   ],
   "source": [
    "import matplotlib.pyplot as plt\n",
    "plt.plot(np.arange(0,n_epochs),loss_history)\n",
    "# plt.ylim(0.00000130, 0.00000200)\n",
    "plt.xlabel('epoch')\n",
    "plt.ylabel('train_loss')\n",
    "plt.title('loss_vs_epoch')"
   ]
  },
  {
   "cell_type": "markdown",
   "metadata": {},
   "source": [
    "# Sampling the next few words and generating the output 5 times"
   ]
  },
  {
   "cell_type": "markdown",
   "metadata": {},
   "source": [
    "In all the iterations beloe we observe that outcome is different for each of the iterations"
   ]
  },
  {
   "cell_type": "markdown",
   "metadata": {},
   "source": [
    "# 1st iteration"
   ]
  },
  {
   "cell_type": "code",
   "execution_count": 47,
   "metadata": {
    "colab": {},
    "colab_type": "code",
    "id": "zmV-uWN7ipJG"
   },
   "outputs": [
    {
     "name": "stderr",
     "output_type": "stream",
     "text": [
      "/home/team2/anaconda3/lib/python3.7/site-packages/ipykernel_launcher.py:35: UserWarning: Implicit dimension choice for softmax has been deprecated. Change the call to include dim=X as an argument.\n"
     ]
    },
    {
     "data": {
      "text/plain": [
       "'My favourite movie syndicated alienating defeated woods Damien eras judgement Spark FBI ! Catch Vicky biology LESS venue paperback Abhay salute Alexis Card'"
      ]
     },
     "execution_count": 47,
     "metadata": {},
     "output_type": "execute_result"
    }
   ],
   "source": [
    "#building a function to generate a sequence of words\n",
    "def word_ids_to_sentence(id_tensor, vocab, join=None):\n",
    "    \"\"\"Converts a sequence of word ids to a sentence\"\"\"\n",
    "    if isinstance(id_tensor, torch.LongTensor):\n",
    "        ids = id_tensor.transpose(0, 1).contiguous().view(-1)\n",
    "    elif isinstance(id_tensor, np.ndarray):\n",
    "        ids = id_tensor.transpose().reshape(-1)\n",
    "    batch = [vocab.itos[ind] for ind in ids] # denumericalize\n",
    "    if join is None:\n",
    "        return batch\n",
    "    else:\n",
    "        return join.join(batch)\n",
    "\n",
    "#building a function to predict tensor given an input sentence   \n",
    "import spacy\n",
    "nlp = spacy.load('en')\n",
    "\n",
    "def predict_sentiment(sentence):\n",
    "    tokenized = [tok.text for tok in nlp.tokenizer(sentence)]\n",
    "    indexed = [TEXT.vocab.stoi[t] for t in tokenized]\n",
    "    tensor = torch.LongTensor(indexed).to(device)\n",
    "    tensor = tensor.unsqueeze(1)\n",
    "    return tensor\n",
    "\n",
    "\n",
    "#predicting the sequence of 20 words for the input sequence \"my favourite movie\"\n",
    "\n",
    "sent_dict={}\n",
    "\n",
    "for j in range(5):\n",
    "  sentence = \"My favourite movie\"\n",
    "  for i in range(20):\n",
    "    ip= predict_sentiment(sentence)\n",
    "    op=model(ip)\n",
    "    op1=F.softmax(op).data\n",
    "    p, top_ch=op1[-1,:,:].topk(20)\n",
    "    top_ch = top_ch.cpu().data.numpy()\n",
    "    p = p.cpu().data.numpy()\n",
    "\n",
    "    #top_ch = top_ch.squeeze()\n",
    "    p = p.squeeze()\n",
    "    word = word_ids_to_sentence(top_ch, TEXT.vocab, join=' ')\n",
    "    #word = np.random.choice(word, p=p/p.sum())\n",
    "\n",
    "    word_1 = word.split()\n",
    "    word_1 = np.random.choice(word_1, p=p/p.sum())\n",
    "    sentence = sentence + ' ' + word_1\n",
    "\n",
    "  sent_dict[j] = sentence\n",
    "\n",
    "sent_dict[0]"
   ]
  },
  {
   "cell_type": "markdown",
   "metadata": {},
   "source": [
    "# 2nd iteration "
   ]
  },
  {
   "cell_type": "code",
   "execution_count": 50,
   "metadata": {
    "colab": {},
    "colab_type": "code",
    "id": "i_wS8fZ86EcP"
   },
   "outputs": [
    {
     "name": "stderr",
     "output_type": "stream",
     "text": [
      "/home/team2/anaconda3/lib/python3.7/site-packages/ipykernel_launcher.py:35: UserWarning: Implicit dimension choice for softmax has been deprecated. Change the call to include dim=X as an argument.\n"
     ]
    },
    {
     "data": {
      "text/plain": [
       "'My favourite movie kitschy secured UFO prostitution Spaceballs applaud treasure moving pond cruel spectator Transylvania Begley settled Roman dazzling condition linger bounds Brit'"
      ]
     },
     "execution_count": 50,
     "metadata": {},
     "output_type": "execute_result"
    }
   ],
   "source": [
    "#building a function to generate a sequence of words\n",
    "def word_ids_to_sentence(id_tensor, vocab, join=None):\n",
    "    \"\"\"Converts a sequence of word ids to a sentence\"\"\"\n",
    "    if isinstance(id_tensor, torch.LongTensor):\n",
    "        ids = id_tensor.transpose(0, 1).contiguous().view(-1)\n",
    "    elif isinstance(id_tensor, np.ndarray):\n",
    "        ids = id_tensor.transpose().reshape(-1)\n",
    "    batch = [vocab.itos[ind] for ind in ids] # denumericalize\n",
    "    if join is None:\n",
    "        return batch\n",
    "    else:\n",
    "        return join.join(batch)\n",
    "\n",
    "#building a function to predict tensor given an input sentence   \n",
    "import spacy\n",
    "nlp = spacy.load('en')\n",
    "\n",
    "def predict_sentiment(sentence):\n",
    "    tokenized = [tok.text for tok in nlp.tokenizer(sentence)]\n",
    "    indexed = [TEXT.vocab.stoi[t] for t in tokenized]\n",
    "    tensor = torch.LongTensor(indexed).to(device)\n",
    "    tensor = tensor.unsqueeze(1)\n",
    "    return tensor\n",
    "\n",
    "\n",
    "#predicting the sequence of 20 words for the input sequence \"my favourite movie\"\n",
    "\n",
    "sent_dict={}\n",
    "\n",
    "for j in range(5):\n",
    "  sentence = \"My favourite movie\"\n",
    "  for i in range(20):\n",
    "    ip= predict_sentiment(sentence)\n",
    "    op=model(ip)\n",
    "    op1=F.softmax(op).data\n",
    "    p, top_ch=op1[-1,:,:].topk(20)\n",
    "    top_ch = top_ch.cpu().data.numpy()\n",
    "    p = p.cpu().data.numpy()\n",
    "\n",
    "    #top_ch = top_ch.squeeze()\n",
    "    p = p.squeeze()\n",
    "    word = word_ids_to_sentence(top_ch, TEXT.vocab, join=' ')\n",
    "    #word = np.random.choice(word, p=p/p.sum())\n",
    "\n",
    "    word_1 = word.split()\n",
    "    word_1 = np.random.choice(word_1, p=p/p.sum())\n",
    "    sentence = sentence + ' ' + word_1\n",
    "\n",
    "  sent_dict[j] = sentence\n",
    "\n",
    "sent_dict[0]"
   ]
  },
  {
   "cell_type": "markdown",
   "metadata": {},
   "source": [
    "# 3rd iteration"
   ]
  },
  {
   "cell_type": "code",
   "execution_count": 51,
   "metadata": {},
   "outputs": [
    {
     "name": "stderr",
     "output_type": "stream",
     "text": [
      "/home/team2/anaconda3/lib/python3.7/site-packages/ipykernel_launcher.py:35: UserWarning: Implicit dimension choice for softmax has been deprecated. Change the call to include dim=X as an argument.\n"
     ]
    },
    {
     "data": {
      "text/plain": [
       "'My favourite movie />Its bullies zombie Fiona vivid flash DeNiro defeated Love Strombel enamored lips legitimately jet Police countryside Dublin SG1 resentment scene'"
      ]
     },
     "execution_count": 51,
     "metadata": {},
     "output_type": "execute_result"
    }
   ],
   "source": [
    "#building a function to generate a sequence of words\n",
    "def word_ids_to_sentence(id_tensor, vocab, join=None):\n",
    "    \"\"\"Converts a sequence of word ids to a sentence\"\"\"\n",
    "    if isinstance(id_tensor, torch.LongTensor):\n",
    "        ids = id_tensor.transpose(0, 1).contiguous().view(-1)\n",
    "    elif isinstance(id_tensor, np.ndarray):\n",
    "        ids = id_tensor.transpose().reshape(-1)\n",
    "    batch = [vocab.itos[ind] for ind in ids] # denumericalize\n",
    "    if join is None:\n",
    "        return batch\n",
    "    else:\n",
    "        return join.join(batch)\n",
    "\n",
    "#building a function to predict tensor given an input sentence   \n",
    "import spacy\n",
    "nlp = spacy.load('en')\n",
    "\n",
    "def predict_sentiment(sentence):\n",
    "    tokenized = [tok.text for tok in nlp.tokenizer(sentence)]\n",
    "    indexed = [TEXT.vocab.stoi[t] for t in tokenized]\n",
    "    tensor = torch.LongTensor(indexed).to(device)\n",
    "    tensor = tensor.unsqueeze(1)\n",
    "    return tensor\n",
    "\n",
    "\n",
    "#predicting the sequence of 20 words for the input sequence \"my favourite movie\"\n",
    "\n",
    "sent_dict={}\n",
    "\n",
    "for j in range(5):\n",
    "  sentence = \"My favourite movie\"\n",
    "  for i in range(20):\n",
    "    ip= predict_sentiment(sentence)\n",
    "    op=model(ip)\n",
    "    op1=F.softmax(op).data\n",
    "    p, top_ch=op1[-1,:,:].topk(20)\n",
    "    top_ch = top_ch.cpu().data.numpy()\n",
    "    p = p.cpu().data.numpy()\n",
    "\n",
    "    #top_ch = top_ch.squeeze()\n",
    "    p = p.squeeze()\n",
    "    word = word_ids_to_sentence(top_ch, TEXT.vocab, join=' ')\n",
    "    #word = np.random.choice(word, p=p/p.sum())\n",
    "\n",
    "    word_1 = word.split()\n",
    "    word_1 = np.random.choice(word_1, p=p/p.sum())\n",
    "    sentence = sentence + ' ' + word_1\n",
    "\n",
    "  sent_dict[j] = sentence\n",
    "\n",
    "sent_dict[0]"
   ]
  },
  {
   "cell_type": "markdown",
   "metadata": {},
   "source": [
    "# 4th iteration"
   ]
  },
  {
   "cell_type": "code",
   "execution_count": 52,
   "metadata": {},
   "outputs": [
    {
     "name": "stderr",
     "output_type": "stream",
     "text": [
      "/home/team2/anaconda3/lib/python3.7/site-packages/ipykernel_launcher.py:35: UserWarning: Implicit dimension choice for softmax has been deprecated. Change the call to include dim=X as an argument.\n"
     ]
    },
    {
     "data": {
      "text/plain": [
       "'My favourite movie Features rose Eglantine offending bothersome Rukh Channing ENJOY noting financial degrees par commit Mario denied sequence.<br oppose Tarzan reaches roadie'"
      ]
     },
     "execution_count": 52,
     "metadata": {},
     "output_type": "execute_result"
    }
   ],
   "source": [
    "#building a function to generate a sequence of words\n",
    "def word_ids_to_sentence(id_tensor, vocab, join=None):\n",
    "    \"\"\"Converts a sequence of word ids to a sentence\"\"\"\n",
    "    if isinstance(id_tensor, torch.LongTensor):\n",
    "        ids = id_tensor.transpose(0, 1).contiguous().view(-1)\n",
    "    elif isinstance(id_tensor, np.ndarray):\n",
    "        ids = id_tensor.transpose().reshape(-1)\n",
    "    batch = [vocab.itos[ind] for ind in ids] # denumericalize\n",
    "    if join is None:\n",
    "        return batch\n",
    "    else:\n",
    "        return join.join(batch)\n",
    "\n",
    "#building a function to predict tensor given an input sentence   \n",
    "import spacy\n",
    "nlp = spacy.load('en')\n",
    "\n",
    "def predict_sentiment(sentence):\n",
    "    tokenized = [tok.text for tok in nlp.tokenizer(sentence)]\n",
    "    indexed = [TEXT.vocab.stoi[t] for t in tokenized]\n",
    "    tensor = torch.LongTensor(indexed).to(device)\n",
    "    tensor = tensor.unsqueeze(1)\n",
    "    return tensor\n",
    "\n",
    "\n",
    "#predicting the sequence of 20 words for the input sequence \"my favourite movie\"\n",
    "\n",
    "sent_dict={}\n",
    "\n",
    "for j in range(5):\n",
    "  sentence = \"My favourite movie\"\n",
    "  for i in range(20):\n",
    "    ip= predict_sentiment(sentence)\n",
    "    op=model(ip)\n",
    "    op1=F.softmax(op).data\n",
    "    p, top_ch=op1[-1,:,:].topk(20)\n",
    "    top_ch = top_ch.cpu().data.numpy()\n",
    "    p = p.cpu().data.numpy()\n",
    "\n",
    "    #top_ch = top_ch.squeeze()\n",
    "    p = p.squeeze()\n",
    "    word = word_ids_to_sentence(top_ch, TEXT.vocab, join=' ')\n",
    "    #word = np.random.choice(word, p=p/p.sum())\n",
    "\n",
    "    word_1 = word.split()\n",
    "    word_1 = np.random.choice(word_1, p=p/p.sum())\n",
    "    sentence = sentence + ' ' + word_1\n",
    "\n",
    "  sent_dict[j] = sentence\n",
    "\n",
    "sent_dict[0]"
   ]
  },
  {
   "cell_type": "markdown",
   "metadata": {},
   "source": [
    "# 5th iteration"
   ]
  },
  {
   "cell_type": "code",
   "execution_count": 53,
   "metadata": {},
   "outputs": [
    {
     "name": "stderr",
     "output_type": "stream",
     "text": [
      "/home/team2/anaconda3/lib/python3.7/site-packages/ipykernel_launcher.py:35: UserWarning: Implicit dimension choice for softmax has been deprecated. Change the call to include dim=X as an argument.\n"
     ]
    },
    {
     "data": {
      "text/plain": [
       "'My favourite movie camcorder milestone Kriemhild backwoods become couple broad Card lots closure meddling enhanced Blunt robbers Burt out festivals Egan MORE rendezvous'"
      ]
     },
     "execution_count": 53,
     "metadata": {},
     "output_type": "execute_result"
    }
   ],
   "source": [
    "#building a function to generate a sequence of words\n",
    "def word_ids_to_sentence(id_tensor, vocab, join=None):\n",
    "    \"\"\"Converts a sequence of word ids to a sentence\"\"\"\n",
    "    if isinstance(id_tensor, torch.LongTensor):\n",
    "        ids = id_tensor.transpose(0, 1).contiguous().view(-1)\n",
    "    elif isinstance(id_tensor, np.ndarray):\n",
    "        ids = id_tensor.transpose().reshape(-1)\n",
    "    batch = [vocab.itos[ind] for ind in ids] # denumericalize\n",
    "    if join is None:\n",
    "        return batch\n",
    "    else:\n",
    "        return join.join(batch)\n",
    "\n",
    "#building a function to predict tensor given an input sentence   \n",
    "import spacy\n",
    "nlp = spacy.load('en')\n",
    "\n",
    "def predict_sentiment(sentence):\n",
    "    tokenized = [tok.text for tok in nlp.tokenizer(sentence)]\n",
    "    indexed = [TEXT.vocab.stoi[t] for t in tokenized]\n",
    "    tensor = torch.LongTensor(indexed).to(device)\n",
    "    tensor = tensor.unsqueeze(1)\n",
    "    return tensor\n",
    "\n",
    "\n",
    "#predicting the sequence of 20 words for the input sequence \"my favourite movie\"\n",
    "\n",
    "sent_dict={}\n",
    "\n",
    "for j in range(5):\n",
    "  sentence = \"My favourite movie\"\n",
    "  for i in range(20):\n",
    "    ip= predict_sentiment(sentence)\n",
    "    op=model(ip)\n",
    "    op1=F.softmax(op).data\n",
    "    p, top_ch=op1[-1,:,:].topk(20)\n",
    "    top_ch = top_ch.cpu().data.numpy()\n",
    "    p = p.cpu().data.numpy()\n",
    "\n",
    "    #top_ch = top_ch.squeeze()\n",
    "    p = p.squeeze()\n",
    "    word = word_ids_to_sentence(top_ch, TEXT.vocab, join=' ')\n",
    "    #word = np.random.choice(word, p=p/p.sum())\n",
    "\n",
    "    word_1 = word.split()\n",
    "    word_1 = np.random.choice(word_1, p=p/p.sum())\n",
    "    sentence = sentence + ' ' + word_1\n",
    "\n",
    "  sent_dict[j] = sentence\n",
    "\n",
    "sent_dict[0]"
   ]
  }
 ],
 "metadata": {
  "accelerator": "GPU",
  "colab": {
   "collapsed_sections": [],
   "name": "check(1).ipynb",
   "provenance": [],
   "version": "0.3.2"
  },
  "kernelspec": {
   "display_name": "Python 3",
   "language": "python",
   "name": "python3"
  },
  "language_info": {
   "codemirror_mode": {
    "name": "ipython",
    "version": 3
   },
   "file_extension": ".py",
   "mimetype": "text/x-python",
   "name": "python",
   "nbconvert_exporter": "python",
   "pygments_lexer": "ipython3",
   "version": "3.7.4"
  }
 },
 "nbformat": 4,
 "nbformat_minor": 1
}
